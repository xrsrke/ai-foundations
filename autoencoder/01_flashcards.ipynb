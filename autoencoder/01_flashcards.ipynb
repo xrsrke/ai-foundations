{
 "cells": [
  {
   "cell_type": "markdown",
   "id": "ba1e8746-0833-47a8-aea6-80f941ea32c5",
   "metadata": {},
   "source": [
    "##### Example 1: Transform tensor"
   ]
  },
  {
   "cell_type": "code",
   "execution_count": 3,
   "id": "b023352b-f755-40bc-8772-f45840454781",
   "metadata": {},
   "outputs": [
    {
     "name": "stdout",
     "output_type": "stream",
     "text": [
      "  % Total    % Received % Xferd  Average Speed   Time    Time     Time  Current\n",
      "                                 Dload  Upload   Total   Spent    Left  Speed\n",
      "100 62145  100 62145    0     0   424k      0 --:--:-- --:--:-- --:--:--  424k\n"
     ]
    }
   ],
   "source": [
    "!curl --output macaw.jpg 'https://lafeber.com/pet-birds/wp-content/uploads/2018/06/Scarlet-Macaw-2.jpg'"
   ]
  },
  {
   "cell_type": "code",
   "execution_count": 13,
   "id": "951fd76b-e30b-4d80-8959-0ea78a9a1472",
   "metadata": {},
   "outputs": [],
   "source": [
    "_im = Image.open('macaw.jpg').resize((64, 64))"
   ]
  },
  {
   "cell_type": "code",
   "execution_count": 4,
   "id": "871e8088-7407-44d6-b0e8-0be30493ed45",
   "metadata": {},
   "outputs": [],
   "source": [
    "from PIL import Image"
   ]
  },
  {
   "cell_type": "code",
   "execution_count": 32,
   "id": "4dc751e2-f5e6-4bfc-b4b1-46076be813a7",
   "metadata": {},
   "outputs": [
    {
     "data": {
      "image/png": "[encoded data removed]",
      "text/plain": [
       "<PIL.Image.Image image mode=RGB size=64x64>"
      ]
     },
     "execution_count": 32,
     "metadata": {},
     "output_type": "execute_result"
    }
   ],
   "source": [
    "_im"
   ]
  },
  {
   "cell_type": "code",
   "execution_count": 33,
   "id": "bbe33e06-7062-4bc5-aab9-67e0898a87c9",
   "metadata": {},
   "outputs": [
    {
     "data": {
      "text/plain": [
       "(64, 64)"
      ]
     },
     "execution_count": 33,
     "metadata": {},
     "output_type": "execute_result"
    }
   ],
   "source": [
    "_im.size"
   ]
  },
  {
   "cell_type": "markdown",
   "id": "9dec4262-164f-4377-b84e-d9c8ec03bb27",
   "metadata": {},
   "source": [
    "Create a transform that convert an PIL image to tensor and then normalize it with mean 0.3 and std 0.9 using pytorch"
   ]
  },
  {
   "cell_type": "code",
   "execution_count": 34,
   "id": "5b28c936-0fac-430d-9122-c4ce5b2e1d75",
   "metadata": {},
   "outputs": [],
   "source": [
    "from torchvision import transforms as tfms"
   ]
  },
  {
   "cell_type": "code",
   "execution_count": 35,
   "id": "65e8f8d0-4244-425c-9481-0aff70a5026c",
   "metadata": {},
   "outputs": [],
   "source": [
    "transform = tfms.Compose([\n",
    "    tfms.ToTensor(),\n",
    "    tfms.Normalize(0.3, 0.9)\n",
    "])"
   ]
  },
  {
   "cell_type": "code",
   "execution_count": 36,
   "id": "3f1fdb55-9659-4291-89f6-52cd8fe0689c",
   "metadata": {},
   "outputs": [],
   "source": [
    "_im_tensor = transform(_im)"
   ]
  },
  {
   "cell_type": "code",
   "execution_count": 37,
   "id": "cea716e0-344d-42fc-b8d2-8e25f1cdbeea",
   "metadata": {},
   "outputs": [
    {
     "data": {
      "text/plain": [
       "torch.Size([3, 64, 64])"
      ]
     },
     "execution_count": 37,
     "metadata": {},
     "output_type": "execute_result"
    }
   ],
   "source": [
    "_im_tensor.shape"
   ]
  },
  {
   "cell_type": "code",
   "execution_count": 38,
   "id": "cd2cd141-4bc2-4624-8702-92889e5dc647",
   "metadata": {},
   "outputs": [
    {
     "data": {
      "text/plain": [
       "(tensor(0.1681), tensor(0.2773))"
      ]
     },
     "execution_count": 38,
     "metadata": {},
     "output_type": "execute_result"
    }
   ],
   "source": [
    "_im_tensor.mean(), _im_tensor.std(), "
   ]
  },
  {
   "cell_type": "code",
   "execution_count": null,
   "id": "6ebc6080-e5d8-4c72-a87e-5360e73bd4fc",
   "metadata": {},
   "outputs": [],
   "source": []
  }
 ],
 "metadata": {
  "kernelspec": {
   "display_name": "Python 3 (ipykernel)",
   "language": "python",
   "name": "python3"
  },
  "language_info": {
   "codemirror_mode": {
    "name": "ipython",
    "version": 3
   },
   "file_extension": ".py",
   "mimetype": "text/x-python",
   "name": "python",
   "nbconvert_exporter": "python",
   "pygments_lexer": "ipython3",
   "version": "3.9.13"
  }
 },
 "nbformat": 4,
 "nbformat_minor": 5
}
